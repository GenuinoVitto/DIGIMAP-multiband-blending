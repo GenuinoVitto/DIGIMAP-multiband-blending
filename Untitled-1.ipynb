{
 "cells": [
  {
   "cell_type": "code",
   "execution_count": 43,
   "metadata": {},
   "outputs": [
    {
     "name": "stdout",
     "output_type": "stream",
     "text": [
      "(512, 512, 3)\n",
      "(256, 256, 3)\n",
      "(128, 128, 3)\n",
      "(64, 64, 3)\n",
      "(32, 32, 3)\n",
      "(16, 16, 3)\n"
     ]
    },
    {
     "name": "stderr",
     "output_type": "stream",
     "text": [
      "C:\\Users\\Hannah Fong\\AppData\\Local\\Temp\\ipykernel_16756\\4153268643.py:6: DeprecationWarning: Starting with ImageIO v3 the behavior of this function will switch to that of iio.v3.imread. To keep the current behavior (and make this warning disappear) use `import imageio.v2 as imageio` or call `imageio.v2.imread` directly.\n",
      "  image = imageio.imread(\"_sample_input_left.jpg\")\n"
     ]
    }
   ],
   "source": [
    "import typing\n",
    "import numpy as np\n",
    "import cv2\n",
    "import imageio\n",
    "\n",
    "image = imageio.imread(\"_sample_input_left.jpg\")\n",
    "pyramid = []\n",
    "current = image.copy()\n",
    "for i in range(5):\n",
    "    lowfreq_features = cv2.pyrDown(current)\n",
    "    lowfreq_features_upsampled = cv2.pyrUp(lowfreq_features)\n",
    "    highfreq_features = current - lowfreq_features_upsampled\n",
    "    pyramid.append(highfreq_features)\n",
    "    current = lowfreq_features\n",
    "pyramid.append(current)"
   ]
  },
  {
   "cell_type": "code",
   "execution_count": null,
   "metadata": {},
   "outputs": [],
   "source": [
    "for i in range(5):\n",
    "    pyramid.append(cv2.pyrDown(pyramid[i]))"
   ]
  }
 ],
 "metadata": {
  "kernelspec": {
   "display_name": "Python 3",
   "language": "python",
   "name": "python3"
  },
  "language_info": {
   "codemirror_mode": {
    "name": "ipython",
    "version": 3
   },
   "file_extension": ".py",
   "mimetype": "text/x-python",
   "name": "python",
   "nbconvert_exporter": "python",
   "pygments_lexer": "ipython3",
   "version": "3.11.2"
  },
  "orig_nbformat": 4
 },
 "nbformat": 4,
 "nbformat_minor": 2
}
