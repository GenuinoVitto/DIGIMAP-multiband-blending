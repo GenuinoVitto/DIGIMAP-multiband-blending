{
 "cells": [
  {
   "cell_type": "code",
   "execution_count": null,
   "metadata": {},
   "outputs": [],
   "source": [
    "import typing\n",
    "import numpy as np\n",
    "import cv2\n",
    "import imageio\n",
    "\n",
    "composites = []\n",
    "    for target, source, mask in zip(target_pyramid, source_pyramid, mask_pyramid):\n",
    "        composite = source * mask + target * (1.0 - mask) # Hint: Replace this line with the appropriate expression  # added\n",
    "        composites.append(composite)\n",
    "    return composites"
   ]
  }
 ],
 "metadata": {
  "language_info": {
   "name": "python"
  },
  "orig_nbformat": 4
 },
 "nbformat": 4,
 "nbformat_minor": 2
}
